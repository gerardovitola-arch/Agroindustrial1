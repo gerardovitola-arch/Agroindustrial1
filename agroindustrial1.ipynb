{
  "nbformat": 4,
  "nbformat_minor": 0,
  "metadata": {
    "colab": {
      "provenance": [],
      "authorship_tag": "ABX9TyNEwNxtg8Tqy0p0vvqlHFVL",
      "include_colab_link": true
    },
    "kernelspec": {
      "name": "python3",
      "display_name": "Python 3"
    },
    "language_info": {
      "name": "python"
    }
  },
  "cells": [
    {
      "cell_type": "markdown",
      "metadata": {
        "id": "view-in-github",
        "colab_type": "text"
      },
      "source": [
        "<a href=\"https://colab.research.google.com/github/gerardovitola-arch/Agroindustrial1/blob/main/agroindustrial1.ipynb\" target=\"_parent\"><img src=\"https://colab.research.google.com/assets/colab-badge.svg\" alt=\"Open In Colab\"/></a>"
      ]
    },
    {
      "cell_type": "code",
      "execution_count": null,
      "metadata": {
        "id": "tVik025BzlJ8"
      },
      "outputs": [],
      "source": []
    },
    {
      "cell_type": "code",
      "metadata": {
        "colab": {
          "base_uri": "https://localhost:8080/"
        },
        "id": "3dcae6d5",
        "outputId": "5cfcc26f-bd92-48de-e1e4-672142c423a8"
      },
      "source": [
        "def sumar_numeros(num1, num2):\n",
        "  \"\"\"Suma dos números y retorna el resultado.\"\"\"\n",
        "  return num1 + num2\n",
        "\n",
        "# Ejemplo de uso\n",
        "numero1 = 5\n",
        "numero2 = 3\n",
        "resultado = sumar_numeros(numero1, numero2)\n",
        "print(f\"La suma de {numero1} y {numero2} es: {resultado}\")"
      ],
      "execution_count": 1,
      "outputs": [
        {
          "output_type": "stream",
          "name": "stdout",
          "text": [
            "La suma de 5 y 3 es: 8\n"
          ]
        }
      ]
    }
  ]
}