{
  "nbformat": 4,
  "nbformat_minor": 0,
  "metadata": {
    "colab": {
      "provenance": [],
      "authorship_tag": "ABX9TyOKN3tdkGj5ioHafRZFHqBB",
      "include_colab_link": true
    },
    "kernelspec": {
      "name": "python3",
      "display_name": "Python 3"
    },
    "language_info": {
      "name": "python"
    }
  },
  "cells": [
    {
      "cell_type": "markdown",
      "metadata": {
        "id": "view-in-github",
        "colab_type": "text"
      },
      "source": [
        "<a href=\"https://colab.research.google.com/github/gerardovitola-arch/Agroindustrial1/blob/main/agroindustrial1.ipynb\" target=\"_parent\"><img src=\"https://colab.research.google.com/assets/colab-badge.svg\" alt=\"Open In Colab\"/></a>"
      ]
    },
    {
      "cell_type": "code",
      "execution_count": null,
      "metadata": {
        "id": "tVik025BzlJ8"
      },
      "outputs": [],
      "source": []
    },
    {
      "cell_type": "code",
      "metadata": {
        "colab": {
          "base_uri": "https://localhost:8080/"
        },
        "id": "3dcae6d5",
        "outputId": "5cfcc26f-bd92-48de-e1e4-672142c423a8"
      },
      "source": [
        "def sumar_numeros(num1, num2):\n",
        "  \"\"\"Suma dos números y retorna el resultado.\"\"\"\n",
        "  return num1 + num2\n",
        "\n",
        "# Ejemplo de uso\n",
        "numero1 = 5\n",
        "numero2 = 3\n",
        "resultado = sumar_numeros(numero1, numero2)\n",
        "print(f\"La suma de {numero1} y {numero2} es: {resultado}\")"
      ],
      "execution_count": 1,
      "outputs": [
        {
          "output_type": "stream",
          "name": "stdout",
          "text": [
            "La suma de 5 y 3 es: 8\n"
          ]
        }
      ]
    },
    {
      "cell_type": "markdown",
      "metadata": {
        "id": "a9ca6531"
      },
      "source": [
        "Este código Python define una función simple para sumar dos números y luego muestra un ejemplo de cómo usar esa función e imprimir el resultado.\n",
        "\n",
        "*   **`def sumar_numeros(num1, num2):`**: Define una función llamada `sumar_numeros` que acepta dos parámetros, `num1` y `num2`.\n",
        "*   **`\"\"\"Suma dos números y retorna el resultado.\"\"\"`**: Es un \"docstring\" que explica brevemente qué hace la función.\n",
        "*   **`return num1 + num2`**: Realiza la suma de `num1` y `num2` y devuelve el resultado.\n",
        "*   **`# Ejemplo de uso`**: Comentario que indica el inicio del ejemplo.\n",
        "*   **`numero1 = 5` y `numero2 = 3`**: Asignan valores a las variables.\n",
        "*   **`resultado = sumar_numeros(numero1, numero2)`**: Llama a la función y guarda el resultado.\n",
        "*   **`print(f\"La suma de {numero1} y {numero2} es: {resultado}\")`**: Imprime el resultado usando un f-string."
      ]
    }
  ]
}