{
  "nbformat": 4,
  "nbformat_minor": 0,
  "metadata": {
    "colab": {
      "provenance": [],
      "authorship_tag": "ABX9TyOvUcYVJhFI1oYPrPCDhGN9",
      "include_colab_link": true
    },
    "kernelspec": {
      "name": "python3",
      "display_name": "Python 3"
    },
    "language_info": {
      "name": "python"
    }
  },
  "cells": [
    {
      "cell_type": "markdown",
      "metadata": {
        "id": "view-in-github",
        "colab_type": "text"
      },
      "source": [
        "<a href=\"https://colab.research.google.com/github/gerardovitola-arch/Agroindustrial1/blob/main/agroindustrial1.ipynb\" target=\"_parent\"><img src=\"https://colab.research.google.com/assets/colab-badge.svg\" alt=\"Open In Colab\"/></a>"
      ]
    },
    {
      "cell_type": "code",
      "execution_count": null,
      "metadata": {
        "id": "tVik025BzlJ8"
      },
      "outputs": [],
      "source": []
    },
    {
      "cell_type": "code",
      "metadata": {
        "colab": {
          "base_uri": "https://localhost:8080/"
        },
        "id": "3dcae6d5",
        "outputId": "5cfcc26f-bd92-48de-e1e4-672142c423a8"
      },
      "source": [
        "def sumar_numeros(num1, num2):\n",
        "  \"\"\"Suma dos números y retorna el resultado.\"\"\"\n",
        "  return num1 + num2\n",
        "\n",
        "# Ejemplo de uso\n",
        "numero1 = 5\n",
        "numero2 = 3\n",
        "resultado = sumar_numeros(numero1, numero2)\n",
        "print(f\"La suma de {numero1} y {numero2} es: {resultado}\")"
      ],
      "execution_count": 1,
      "outputs": [
        {
          "output_type": "stream",
          "name": "stdout",
          "text": [
            "La suma de 5 y 3 es: 8\n"
          ]
        }
      ]
    },
    {
      "cell_type": "markdown",
      "metadata": {
        "id": "a9ca6531"
      },
      "source": [
        "Este código Python define una función simple para sumar dos números y luego muestra un ejemplo de cómo usar esa función e imprimir el resultado.\n",
        "\n",
        "*   **`def sumar_numeros(num1, num2):`**: Define una función llamada `sumar_numeros` que acepta dos parámetros, `num1` y `num2`.\n",
        "*   **`\"\"\"Suma dos números y retorna el resultado.\"\"\"`**: Es un \"docstring\" que explica brevemente qué hace la función.\n",
        "*   **`return num1 + num2`**: Realiza la suma de `num1` y `num2` y devuelve el resultado.\n",
        "*   **`# Ejemplo de uso`**: Comentario que indica el inicio del ejemplo.\n",
        "*   **`numero1 = 5` y `numero2 = 3`**: Asignan valores a las variables.\n",
        "*   **`resultado = sumar_numeros(numero1, numero2)`**: Llama a la función y guarda el resultado.\n",
        "*   **`print(f\"La suma de {numero1} y {numero2} es: {resultado}\")`**: Imprime el resultado usando un f-string."
      ]
    },
    {
      "cell_type": "code",
      "metadata": {
        "colab": {
          "base_uri": "https://localhost:8080/"
        },
        "id": "66553bb8",
        "outputId": "740fd0f7-342f-4a2f-e534-b563021e25ec"
      },
      "source": [
        "# Definimos dos números para las operaciones\n",
        "num1 = 10\n",
        "num2 = 5\n",
        "\n",
        "# Suma\n",
        "suma = num1 + num2\n",
        "print(f\"Suma: {num1} + {num2} = {suma}\")\n",
        "\n",
        "# Resta\n",
        "resta = num1 - num2\n",
        "print(f\"Resta: {num1} - {num2} = {resta}\")\n",
        "\n",
        "# Multiplicación\n",
        "multiplicacion = num1 * num2\n",
        "print(f\"Multiplicación: {num1} * {num2} = {multiplicacion}\")\n",
        "\n",
        "# División\n",
        "division = num1 / num2\n",
        "print(f\"División: {num1} / {num2} = {division}\")\n",
        "\n",
        "# División entera (descarta la parte decimal)\n",
        "division_entera = num1 // num2\n",
        "print(f\"División entera: {num1} // {num2} = {division_entera}\")\n",
        "\n",
        "# Módulo (el resto de la división)\n",
        "modulo = num1 % num2\n",
        "print(f\"Módulo: {num1} % {num2} = {modulo}\")\n",
        "\n",
        "# Exponenciación (num1 elevado a la potencia de num2)\n",
        "exponenciacion = num1 ** num2\n",
        "print(f\"Exponenciación: {num1} ** {num2} = {exponenciacion}\")"
      ],
      "execution_count": 2,
      "outputs": [
        {
          "output_type": "stream",
          "name": "stdout",
          "text": [
            "Suma: 10 + 5 = 15\n",
            "Resta: 10 - 5 = 5\n",
            "Multiplicación: 10 * 5 = 50\n",
            "División: 10 / 5 = 2.0\n",
            "División entera: 10 // 5 = 2\n",
            "Módulo: 10 % 5 = 0\n",
            "Exponenciación: 10 ** 5 = 100000\n"
          ]
        }
      ]
    },
    {
      "cell_type": "markdown",
      "metadata": {
        "id": "e56f11b0"
      },
      "source": [
        "Este código Python demuestra las operaciones aritméticas básicas:\n",
        "\n",
        "*   `# Definimos dos números para las operaciones`: Un comentario que indica que las siguientes líneas definen variables.\n",
        "*   `num1 = 10`: Asigna el valor entero `10` a la variable `num1`.\n",
        "*   `num2 = 5`: Asigna el valor entero `5` a la variable `num2`.\n",
        "\n",
        "*   `# Suma`: Un comentario que indica la operación de suma.\n",
        "*   `suma = num1 + num2`: Realiza la suma de `num1` y `num2` (10 + 5 = 15) y almacena el resultado en la variable `suma`.\n",
        "*   `print(f\"Suma: {num1} + {num2} = {suma}\")`: Imprime en la consola la operación de suma y su resultado utilizando un f-string.\n",
        "\n",
        "*   `# Resta`: Un comentario que indica la operación de resta.\n",
        "*   `resta = num1 - num2`: Realiza la resta de `num1` y `num2` (10 - 5 = 5) y almacena el resultado en la variable `resta`.\n",
        "*   `print(f\"Resta: {num1} - {num2} = {resta}\")`: Imprime en la consola la operación de resta y su resultado.\n",
        "\n",
        "*   `# Multiplicación`: Un comentario que indica la operación de multiplicación.\n",
        "*   `multiplicacion = num1 * num2`: Realiza la multiplicación de `num1` y `num2` (10 * 5 = 50) y almacena el resultado en la variable `multiplicacion`.\n",
        "*   `print(f\"Multiplicación: {num1} * {num2} = {multiplicacion}\")`: Imprime en la consola la operación de multiplicación y su resultado.\n",
        "\n",
        "*   `# División`: Un comentario que indica la operación de división.\n",
        "*   `division = num1 / num2`: Realiza la división de `num1` entre `num2` (10 / 5 = 2.0) y almacena el resultado en la variable `division`. La división con `/` siempre devuelve un número de punto flotante (float).\n",
        "*   `print(f\"División: {num1} / {num2} = {division}\")`: Imprime en la consola la operación de división y su resultado.\n",
        "\n",
        "*   `# División entera (descarta la parte decimal)`: Un comentario que indica la operación de división entera.\n",
        "*   `division_entera = num1 // num2`: Realiza la división entera de `num1` entre `num2` (10 // 5 = 2). Descarta cualquier parte decimal y devuelve un número entero (int).\n",
        "*   `print(f\"División entera: {num1} // {num2} = {division_entera}\")`: Imprime en la consola la operación de división entera y su resultado.\n",
        "\n",
        "*   `# Módulo (el resto de la división)`: Un comentario que indica la operación de módulo.\n",
        "*   `modulo = num1 % num2`: Realiza la operación de módulo de `num1` entre `num2` (10 % 5 = 0). Devuelve el resto de la división.\n",
        "*   `print(f\"Módulo: {num1} % {num2} = {modulo}\")`: Imprime en la consola la operación de módulo y su resultado.\n",
        "\n",
        "*   `# Exponenciación (num1 elevado a la potencia de num2)`: Un comentario que indica la operación de exponenciación.\n",
        "*   `exponenciacion = num1 ** num2`: Realiza la exponenciación, elevando `num1` a la potencia de `num2` (10 ** 5 = 100000).\n",
        "*   `print(f\"Exponenciación: {num1} ** {num2} = {exponenciacion}\")`: Imprime en la consola la operación de exponenciación y su resultado."
      ]
    }
  ]
}